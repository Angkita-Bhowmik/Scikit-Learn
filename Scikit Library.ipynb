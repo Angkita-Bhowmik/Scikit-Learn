{
 "cells": [
  {
   "cell_type": "markdown",
   "metadata": {},
   "source": [
    "#Introduction to Scikit Learn"
   ]
  },
  {
   "cell_type": "markdown",
   "metadata": {},
   "source": [
    "##K-Neighbours Regressor"
   ]
  },
  {
   "cell_type": "markdown",
   "metadata": {},
   "source": [
    "###Without Hyperparameter Tuning"
   ]
  },
  {
   "cell_type": "code",
   "execution_count": 21,
   "metadata": {},
   "outputs": [],
   "source": [
    "import matplotlib.pyplot as plt\n",
    "from sklearn.datasets import fetch_california_housing\n",
    "from sklearn.preprocessing import StandardScaler\n",
    "from sklearn.pipeline import Pipeline\n",
    "from sklearn.neighbors import KNeighborsRegressor"
   ]
  },
  {
   "cell_type": "code",
   "execution_count": 46,
   "metadata": {},
   "outputs": [],
   "source": [
    "X, Y = fetch_california_housing(return_X_y=True) #To assign feature and target into separate variables"
   ]
  },
  {
   "cell_type": "code",
   "execution_count": null,
   "metadata": {},
   "outputs": [],
   "source": [
    "mod = KNeighborsRegressor().fit(X, Y) #Without any scaling process of the data\n",
    "\n",
    "pipe = Pipeline([\n",
    "    (\"scale\", StandardScaler()),\n",
    "    (\"model\", KNeighborsRegressor(n_neighbors=1)) \n",
    "])       #with the scaling and training process chained into a pipeline"
   ]
  },
  {
   "cell_type": "code",
   "execution_count": 44,
   "metadata": {},
   "outputs": [],
   "source": [
    "pipe.fit(X, Y)\n",
    "pred = pipe.predict(X)"
   ]
  },
  {
   "cell_type": "code",
   "execution_count": 48,
   "metadata": {},
   "outputs": [
    {
     "data": {
      "text/plain": [
       "<matplotlib.collections.PathCollection at 0x1d90f9b91f0>"
      ]
     },
     "execution_count": 48,
     "metadata": {},
     "output_type": "execute_result"
    },
    {
     "data": {
      "image/png": "[encoded data removed]",
      "text/plain": [
       "<Figure size 640x480 with 1 Axes>"
      ]
     },
     "metadata": {},
     "output_type": "display_data"
    }
   ],
   "source": [
    "plt.scatter(pred , Y)  #Because numbers of neighbours = 1, it will show a straight line"
   ]
  },
  {
   "cell_type": "markdown",
   "metadata": {},
   "source": [
    "###With Hyperparameter Tuning and training-testing of a data"
   ]
  },
  {
   "cell_type": "code",
   "execution_count": 57,
   "metadata": {},
   "outputs": [],
   "source": [
    "from sklearn.model_selection import GridSearchCV #For hyperparameter tuning\n",
    "import pandas as pd"
   ]
  },
  {
   "cell_type": "code",
   "execution_count": 50,
   "metadata": {},
   "outputs": [
    {
     "data": {
      "text/plain": [
       "{'memory': None,\n",
       " 'steps': [('scale', StandardScaler()),\n",
       "  ('model', KNeighborsRegressor(n_neighbors=1))],\n",
       " 'verbose': False,\n",
       " 'scale': StandardScaler(),\n",
       " 'model': KNeighborsRegressor(n_neighbors=1),\n",
       " 'scale__copy': True,\n",
       " 'scale__with_mean': True,\n",
       " 'scale__with_std': True,\n",
       " 'model__algorithm': 'auto',\n",
       " 'model__leaf_size': 30,\n",
       " 'model__metric': 'minkowski',\n",
       " 'model__metric_params': None,\n",
       " 'model__n_jobs': None,\n",
       " 'model__n_neighbors': 1,\n",
       " 'model__p': 2,\n",
       " 'model__weights': 'uniform'}"
      ]
     },
     "execution_count": 50,
     "metadata": {},
     "output_type": "execute_result"
    }
   ],
   "source": [
    "pipe.get_params()"
   ]
  },
  {
   "cell_type": "code",
   "execution_count": 53,
   "metadata": {},
   "outputs": [],
   "source": [
    "mod2 = GridSearchCV(\n",
    "    estimator= pipe,\n",
    "    param_grid={ 'model__n_neighbors': [1,2,3,4,5,6,7,8,9,10]},\n",
    "    cv=3\n",
    ")"
   ]
  },
  {
   "cell_type": "code",
   "execution_count": 59,
   "metadata": {},
   "outputs": [
    {
     "data": {
      "text/html": [
       "<div>\n",
       "<style scoped>\n",
       "    .dataframe tbody tr th:only-of-type {\n",
       "        vertical-align: middle;\n",
       "    }\n",
       "\n",
       "    .dataframe tbody tr th {\n",
       "        vertical-align: top;\n",
       "    }\n",
       "\n",
       "    .dataframe thead th {\n",
       "        text-align: right;\n",
       "    }\n",
       "</style>\n",
       "<table border=\"1\" class=\"dataframe\">\n",
       "  <thead>\n",
       "    <tr style=\"text-align: right;\">\n",
       "      <th></th>\n",
       "      <th>mean_fit_time</th>\n",
       "      <th>std_fit_time</th>\n",
       "      <th>mean_score_time</th>\n",
       "      <th>std_score_time</th>\n",
       "      <th>param_model__n_neighbors</th>\n",
       "      <th>params</th>\n",
       "      <th>split0_test_score</th>\n",
       "      <th>split1_test_score</th>\n",
       "      <th>split2_test_score</th>\n",
       "      <th>mean_test_score</th>\n",
       "      <th>std_test_score</th>\n",
       "      <th>rank_test_score</th>\n",
       "    </tr>\n",
       "  </thead>\n",
       "  <tbody>\n",
       "    <tr>\n",
       "      <th>0</th>\n",
       "      <td>0.022167</td>\n",
       "      <td>0.002462</td>\n",
       "      <td>0.368325</td>\n",
       "      <td>0.025729</td>\n",
       "      <td>1</td>\n",
       "      <td>{'model__n_neighbors': 1}</td>\n",
       "      <td>0.324068</td>\n",
       "      <td>0.334830</td>\n",
       "      <td>0.323371</td>\n",
       "      <td>0.327423</td>\n",
       "      <td>0.005245</td>\n",
       "      <td>10</td>\n",
       "    </tr>\n",
       "    <tr>\n",
       "      <th>1</th>\n",
       "      <td>0.026202</td>\n",
       "      <td>0.009488</td>\n",
       "      <td>0.705332</td>\n",
       "      <td>0.240977</td>\n",
       "      <td>2</td>\n",
       "      <td>{'model__n_neighbors': 2}</td>\n",
       "      <td>0.468788</td>\n",
       "      <td>0.503457</td>\n",
       "      <td>0.424388</td>\n",
       "      <td>0.465544</td>\n",
       "      <td>0.032361</td>\n",
       "      <td>9</td>\n",
       "    </tr>\n",
       "    <tr>\n",
       "      <th>2</th>\n",
       "      <td>0.032603</td>\n",
       "      <td>0.009852</td>\n",
       "      <td>0.725011</td>\n",
       "      <td>0.181908</td>\n",
       "      <td>3</td>\n",
       "      <td>{'model__n_neighbors': 3}</td>\n",
       "      <td>0.518547</td>\n",
       "      <td>0.543340</td>\n",
       "      <td>0.473595</td>\n",
       "      <td>0.511827</td>\n",
       "      <td>0.028867</td>\n",
       "      <td>8</td>\n",
       "    </tr>\n",
       "    <tr>\n",
       "      <th>3</th>\n",
       "      <td>0.018699</td>\n",
       "      <td>0.000485</td>\n",
       "      <td>0.451559</td>\n",
       "      <td>0.035321</td>\n",
       "      <td>4</td>\n",
       "      <td>{'model__n_neighbors': 4}</td>\n",
       "      <td>0.540323</td>\n",
       "      <td>0.564974</td>\n",
       "      <td>0.499827</td>\n",
       "      <td>0.535041</td>\n",
       "      <td>0.026857</td>\n",
       "      <td>7</td>\n",
       "    </tr>\n",
       "    <tr>\n",
       "      <th>4</th>\n",
       "      <td>0.032396</td>\n",
       "      <td>0.009683</td>\n",
       "      <td>0.922881</td>\n",
       "      <td>0.191940</td>\n",
       "      <td>5</td>\n",
       "      <td>{'model__n_neighbors': 5}</td>\n",
       "      <td>0.551149</td>\n",
       "      <td>0.579313</td>\n",
       "      <td>0.511781</td>\n",
       "      <td>0.547414</td>\n",
       "      <td>0.027696</td>\n",
       "      <td>6</td>\n",
       "    </tr>\n",
       "    <tr>\n",
       "      <th>5</th>\n",
       "      <td>0.025725</td>\n",
       "      <td>0.009386</td>\n",
       "      <td>0.635633</td>\n",
       "      <td>0.191889</td>\n",
       "      <td>6</td>\n",
       "      <td>{'model__n_neighbors': 6}</td>\n",
       "      <td>0.558435</td>\n",
       "      <td>0.586185</td>\n",
       "      <td>0.521134</td>\n",
       "      <td>0.555251</td>\n",
       "      <td>0.026652</td>\n",
       "      <td>5</td>\n",
       "    </tr>\n",
       "    <tr>\n",
       "      <th>6</th>\n",
       "      <td>0.019364</td>\n",
       "      <td>0.000459</td>\n",
       "      <td>0.672905</td>\n",
       "      <td>0.273003</td>\n",
       "      <td>7</td>\n",
       "      <td>{'model__n_neighbors': 7}</td>\n",
       "      <td>0.564207</td>\n",
       "      <td>0.590509</td>\n",
       "      <td>0.525223</td>\n",
       "      <td>0.559979</td>\n",
       "      <td>0.026820</td>\n",
       "      <td>4</td>\n",
       "    </tr>\n",
       "    <tr>\n",
       "      <th>7</th>\n",
       "      <td>0.039673</td>\n",
       "      <td>0.000437</td>\n",
       "      <td>0.964835</td>\n",
       "      <td>0.218714</td>\n",
       "      <td>8</td>\n",
       "      <td>{'model__n_neighbors': 8}</td>\n",
       "      <td>0.568637</td>\n",
       "      <td>0.593942</td>\n",
       "      <td>0.529337</td>\n",
       "      <td>0.563972</td>\n",
       "      <td>0.026580</td>\n",
       "      <td>3</td>\n",
       "    </tr>\n",
       "    <tr>\n",
       "      <th>8</th>\n",
       "      <td>0.019354</td>\n",
       "      <td>0.000426</td>\n",
       "      <td>0.548337</td>\n",
       "      <td>0.036346</td>\n",
       "      <td>9</td>\n",
       "      <td>{'model__n_neighbors': 9}</td>\n",
       "      <td>0.571972</td>\n",
       "      <td>0.594863</td>\n",
       "      <td>0.529928</td>\n",
       "      <td>0.565588</td>\n",
       "      <td>0.026891</td>\n",
       "      <td>2</td>\n",
       "    </tr>\n",
       "    <tr>\n",
       "      <th>9</th>\n",
       "      <td>0.034120</td>\n",
       "      <td>0.009252</td>\n",
       "      <td>1.142347</td>\n",
       "      <td>0.038376</td>\n",
       "      <td>10</td>\n",
       "      <td>{'model__n_neighbors': 10}</td>\n",
       "      <td>0.573760</td>\n",
       "      <td>0.595831</td>\n",
       "      <td>0.532973</td>\n",
       "      <td>0.567522</td>\n",
       "      <td>0.026038</td>\n",
       "      <td>1</td>\n",
       "    </tr>\n",
       "  </tbody>\n",
       "</table>\n",
       "</div>"
      ],
      "text/plain": [
       "   mean_fit_time  std_fit_time  mean_score_time  std_score_time  \\\n",
       "0       0.022167      0.002462         0.368325        0.025729   \n",
       "1       0.026202      0.009488         0.705332        0.240977   \n",
       "2       0.032603      0.009852         0.725011        0.181908   \n",
       "3       0.018699      0.000485         0.451559        0.035321   \n",
       "4       0.032396      0.009683         0.922881        0.191940   \n",
       "5       0.025725      0.009386         0.635633        0.191889   \n",
       "6       0.019364      0.000459         0.672905        0.273003   \n",
       "7       0.039673      0.000437         0.964835        0.218714   \n",
       "8       0.019354      0.000426         0.548337        0.036346   \n",
       "9       0.034120      0.009252         1.142347        0.038376   \n",
       "\n",
       "   param_model__n_neighbors                      params  split0_test_score  \\\n",
       "0                         1   {'model__n_neighbors': 1}           0.324068   \n",
       "1                         2   {'model__n_neighbors': 2}           0.468788   \n",
       "2                         3   {'model__n_neighbors': 3}           0.518547   \n",
       "3                         4   {'model__n_neighbors': 4}           0.540323   \n",
       "4                         5   {'model__n_neighbors': 5}           0.551149   \n",
       "5                         6   {'model__n_neighbors': 6}           0.558435   \n",
       "6                         7   {'model__n_neighbors': 7}           0.564207   \n",
       "7                         8   {'model__n_neighbors': 8}           0.568637   \n",
       "8                         9   {'model__n_neighbors': 9}           0.571972   \n",
       "9                        10  {'model__n_neighbors': 10}           0.573760   \n",
       "\n",
       "   split1_test_score  split2_test_score  mean_test_score  std_test_score  \\\n",
       "0           0.334830           0.323371         0.327423        0.005245   \n",
       "1           0.503457           0.424388         0.465544        0.032361   \n",
       "2           0.543340           0.473595         0.511827        0.028867   \n",
       "3           0.564974           0.499827         0.535041        0.026857   \n",
       "4           0.579313           0.511781         0.547414        0.027696   \n",
       "5           0.586185           0.521134         0.555251        0.026652   \n",
       "6           0.590509           0.525223         0.559979        0.026820   \n",
       "7           0.593942           0.529337         0.563972        0.026580   \n",
       "8           0.594863           0.529928         0.565588        0.026891   \n",
       "9           0.595831           0.532973         0.567522        0.026038   \n",
       "\n",
       "   rank_test_score  \n",
       "0               10  \n",
       "1                9  \n",
       "2                8  \n",
       "3                7  \n",
       "4                6  \n",
       "5                5  \n",
       "6                4  \n",
       "7                3  \n",
       "8                2  \n",
       "9                1  "
      ]
     },
     "execution_count": 59,
     "metadata": {},
     "output_type": "execute_result"
    }
   ],
   "source": [
    "mod2.fit(X, Y)\n",
    "pd.DataFrame(mod2.cv_results_)"
   ]
  },
  {
   "cell_type": "code",
   "execution_count": null,
   "metadata": {},
   "outputs": [],
   "source": []
  }
 ],
 "metadata": {
  "kernelspec": {
   "display_name": "base",
   "language": "python",
   "name": "python3"
  },
  "language_info": {
   "codemirror_mode": {
    "name": "ipython",
    "version": 3
   },
   "file_extension": ".py",
   "mimetype": "text/x-python",
   "name": "python",
   "nbconvert_exporter": "python",
   "pygments_lexer": "ipython3",
   "version": "3.12.7"
  }
 },
 "nbformat": 4,
 "nbformat_minor": 2
}
